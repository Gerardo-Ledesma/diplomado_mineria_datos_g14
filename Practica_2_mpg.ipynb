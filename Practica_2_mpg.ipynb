{
 "cells": [
  {
   "cell_type": "code",
   "execution_count": 6,
   "metadata": {},
   "outputs": [],
   "source": [
    "import pandas as pd\n",
    "import missingno as msno\n",
    "import numpy as np\n",
    "%matplotlib inline"
   ]
  },
  {
   "cell_type": "code",
   "execution_count": null,
   "metadata": {},
   "outputs": [],
   "source": []
  },
  {
   "cell_type": "code",
   "execution_count": null,
   "metadata": {},
   "outputs": [],
   "source": []
  },
  {
   "cell_type": "code",
   "execution_count": 5,
   "metadata": {},
   "outputs": [],
   "source": [
    "import pandas as pd\n",
    "import missingno as msno\n",
    "import numpy as np\n",
    "%matplotlib inline"
   ]
  },
  {
   "cell_type": "code",
   "execution_count": 7,
   "metadata": {},
   "outputs": [],
   "source": [
    "file = path = 'C:/Users/Gerardo/Desktop/diplomado/modulo-IV/proyecto-final/proyecto/mpg.csv'"
   ]
  },
  {
   "cell_type": "code",
   "execution_count": 8,
   "metadata": {},
   "outputs": [],
   "source": [
    "df = pd.read_csv(file)"
   ]
  },
  {
   "cell_type": "code",
   "execution_count": 9,
   "metadata": {},
   "outputs": [
    {
     "data": {
      "text/html": [
       "<div>\n",
       "<style scoped>\n",
       "    .dataframe tbody tr th:only-of-type {\n",
       "        vertical-align: middle;\n",
       "    }\n",
       "\n",
       "    .dataframe tbody tr th {\n",
       "        vertical-align: top;\n",
       "    }\n",
       "\n",
       "    .dataframe thead th {\n",
       "        text-align: right;\n",
       "    }\n",
       "</style>\n",
       "<table border=\"1\" class=\"dataframe\">\n",
       "  <thead>\n",
       "    <tr style=\"text-align: right;\">\n",
       "      <th></th>\n",
       "      <th>Unnamed: 0</th>\n",
       "      <th>manufacturer</th>\n",
       "      <th>model</th>\n",
       "      <th>displ</th>\n",
       "      <th>year</th>\n",
       "      <th>cyl</th>\n",
       "      <th>trans</th>\n",
       "      <th>drv</th>\n",
       "      <th>cty</th>\n",
       "      <th>hwy</th>\n",
       "      <th>fl</th>\n",
       "      <th>class</th>\n",
       "    </tr>\n",
       "  </thead>\n",
       "  <tbody>\n",
       "    <tr>\n",
       "      <td>0</td>\n",
       "      <td>1</td>\n",
       "      <td>audi</td>\n",
       "      <td>a4</td>\n",
       "      <td>1.8</td>\n",
       "      <td>1999</td>\n",
       "      <td>4</td>\n",
       "      <td>auto(l5)</td>\n",
       "      <td>f</td>\n",
       "      <td>18</td>\n",
       "      <td>29</td>\n",
       "      <td>p</td>\n",
       "      <td>compact</td>\n",
       "    </tr>\n",
       "    <tr>\n",
       "      <td>1</td>\n",
       "      <td>2</td>\n",
       "      <td>audi</td>\n",
       "      <td>a4</td>\n",
       "      <td>1.8</td>\n",
       "      <td>1999</td>\n",
       "      <td>4</td>\n",
       "      <td>manual(m5)</td>\n",
       "      <td>f</td>\n",
       "      <td>21</td>\n",
       "      <td>29</td>\n",
       "      <td>p</td>\n",
       "      <td>compact</td>\n",
       "    </tr>\n",
       "    <tr>\n",
       "      <td>2</td>\n",
       "      <td>3</td>\n",
       "      <td>audi</td>\n",
       "      <td>a4</td>\n",
       "      <td>2.0</td>\n",
       "      <td>2008</td>\n",
       "      <td>4</td>\n",
       "      <td>manual(m6)</td>\n",
       "      <td>f</td>\n",
       "      <td>20</td>\n",
       "      <td>31</td>\n",
       "      <td>p</td>\n",
       "      <td>compact</td>\n",
       "    </tr>\n",
       "    <tr>\n",
       "      <td>3</td>\n",
       "      <td>4</td>\n",
       "      <td>audi</td>\n",
       "      <td>a4</td>\n",
       "      <td>2.0</td>\n",
       "      <td>2008</td>\n",
       "      <td>4</td>\n",
       "      <td>auto(av)</td>\n",
       "      <td>f</td>\n",
       "      <td>21</td>\n",
       "      <td>30</td>\n",
       "      <td>p</td>\n",
       "      <td>compact</td>\n",
       "    </tr>\n",
       "    <tr>\n",
       "      <td>4</td>\n",
       "      <td>5</td>\n",
       "      <td>audi</td>\n",
       "      <td>a4</td>\n",
       "      <td>2.8</td>\n",
       "      <td>1999</td>\n",
       "      <td>6</td>\n",
       "      <td>auto(l5)</td>\n",
       "      <td>f</td>\n",
       "      <td>16</td>\n",
       "      <td>26</td>\n",
       "      <td>p</td>\n",
       "      <td>compact</td>\n",
       "    </tr>\n",
       "  </tbody>\n",
       "</table>\n",
       "</div>"
      ],
      "text/plain": [
       "   Unnamed: 0 manufacturer model  displ  year  cyl       trans drv  cty  hwy  \\\n",
       "0           1         audi    a4    1.8  1999    4    auto(l5)   f   18   29   \n",
       "1           2         audi    a4    1.8  1999    4  manual(m5)   f   21   29   \n",
       "2           3         audi    a4    2.0  2008    4  manual(m6)   f   20   31   \n",
       "3           4         audi    a4    2.0  2008    4    auto(av)   f   21   30   \n",
       "4           5         audi    a4    2.8  1999    6    auto(l5)   f   16   26   \n",
       "\n",
       "  fl    class  \n",
       "0  p  compact  \n",
       "1  p  compact  \n",
       "2  p  compact  \n",
       "3  p  compact  \n",
       "4  p  compact  "
      ]
     },
     "execution_count": 9,
     "metadata": {},
     "output_type": "execute_result"
    }
   ],
   "source": [
    "df.head()"
   ]
  },
  {
   "cell_type": "code",
   "execution_count": 10,
   "metadata": {},
   "outputs": [],
   "source": [
    "df_copy = df.copy()"
   ]
  },
  {
   "cell_type": "code",
   "execution_count": 11,
   "metadata": {},
   "outputs": [
    {
     "data": {
      "text/plain": [
       "(234, 12)"
      ]
     },
     "execution_count": 11,
     "metadata": {},
     "output_type": "execute_result"
    }
   ],
   "source": [
    "df_copy.shape"
   ]
  },
  {
   "cell_type": "code",
   "execution_count": 12,
   "metadata": {},
   "outputs": [
    {
     "data": {
      "text/plain": [
       "12"
      ]
     },
     "execution_count": 12,
     "metadata": {},
     "output_type": "execute_result"
    }
   ],
   "source": [
    "df_copy.shape[1]"
   ]
  },
  {
   "cell_type": "code",
   "execution_count": 13,
   "metadata": {},
   "outputs": [
    {
     "data": {
      "text/plain": [
       "Index(['Unnamed: 0', 'manufacturer', 'model', 'displ', 'year', 'cyl', 'trans',\n",
       "       'drv', 'cty', 'hwy', 'fl', 'class'],\n",
       "      dtype='object')"
      ]
     },
     "execution_count": 13,
     "metadata": {},
     "output_type": "execute_result"
    }
   ],
   "source": [
    "df_copy.columns"
   ]
  },
  {
   "cell_type": "code",
   "execution_count": 14,
   "metadata": {},
   "outputs": [
    {
     "data": {
      "text/plain": [
       "['Unnamed: 0',\n",
       " 'manufacturer',\n",
       " 'model',\n",
       " 'displ',\n",
       " 'year',\n",
       " 'cyl',\n",
       " 'trans',\n",
       " 'drv',\n",
       " 'cty',\n",
       " 'hwy',\n",
       " 'fl',\n",
       " 'class']"
      ]
     },
     "execution_count": 14,
     "metadata": {},
     "output_type": "execute_result"
    }
   ],
   "source": [
    "list(df_copy.columns)"
   ]
  },
  {
   "cell_type": "code",
   "execution_count": 15,
   "metadata": {},
   "outputs": [
    {
     "data": {
      "text/plain": [
       "auto(l4)      83\n",
       "manual(m5)    58\n",
       "auto(l5)      39\n",
       "manual(m6)    19\n",
       "auto(s6)      16\n",
       "auto(l6)       6\n",
       "auto(av)       5\n",
       "auto(s5)       3\n",
       "auto(s4)       3\n",
       "auto(l3)       2\n",
       "Name: trans, dtype: int64"
      ]
     },
     "execution_count": 15,
     "metadata": {},
     "output_type": "execute_result"
    }
   ],
   "source": [
    "df_copy['trans'].value_counts()"
   ]
  },
  {
   "cell_type": "code",
   "execution_count": 17,
   "metadata": {},
   "outputs": [
    {
     "data": {
      "text/plain": [
       "array(['auto(l5)', 'manual(m5)', 'manual(m6)', 'auto(av)', 'auto(s6)',\n",
       "       'auto(l4)', 'auto(l3)', 'auto(l6)', 'auto(s5)', 'auto(s4)'],\n",
       "      dtype=object)"
      ]
     },
     "execution_count": 17,
     "metadata": {},
     "output_type": "execute_result"
    }
   ],
   "source": [
    "df_copy['trans'].unique()"
   ]
  },
  {
   "cell_type": "code",
   "execution_count": 18,
   "metadata": {},
   "outputs": [
    {
     "name": "stdout",
     "output_type": "stream",
     "text": [
      "COLUMNA:  Unnamed: 0\n",
      "TIPO:  entero\n",
      "NUNIQUE:  234\n",
      "UNIQUE:  [  1   2   3   4   5   6   7   8   9  10  11  12  13  14  15  16  17  18\n",
      "  19  20  21  22  23  24  25  26  27  28  29  30  31  32  33  34  35  36\n",
      "  37  38  39  40  41  42  43  44  45  46  47  48  49  50  51  52  53  54\n",
      "  55  56  57  58  59  60  61  62  63  64  65  66  67  68  69  70  71  72\n",
      "  73  74  75  76  77  78  79  80  81  82  83  84  85  86  87  88  89  90\n",
      "  91  92  93  94  95  96  97  98  99 100 101 102 103 104 105 106 107 108\n",
      " 109 110 111 112 113 114 115 116 117 118 119 120 121 122 123 124 125 126\n",
      " 127 128 129 130 131 132 133 134 135 136 137 138 139 140 141 142 143 144\n",
      " 145 146 147 148 149 150 151 152 153 154 155 156 157 158 159 160 161 162\n",
      " 163 164 165 166 167 168 169 170 171 172 173 174 175 176 177 178 179 180\n",
      " 181 182 183 184 185 186 187 188 189 190 191 192 193 194 195 196 197 198\n",
      " 199 200 201 202 203 204 205 206 207 208 209 210 211 212 213 214 215 216\n",
      " 217 218 219 220 221 222 223 224 225 226 227 228 229 230 231 232 233 234]\n",
      "VALUE COUNTS  234    1\n",
      "74     1\n",
      "86     1\n",
      "85     1\n",
      "84     1\n",
      "      ..\n",
      "152    1\n",
      "151    1\n",
      "150    1\n",
      "149    1\n",
      "1      1\n",
      "Name: Unnamed: 0, Length: 234, dtype: int64\n",
      "\n",
      "\n",
      "COLUMNA:  manufacturer\n",
      "TIPO:  otro\n",
      "NUNIQUE:  15\n",
      "UNIQUE:  ['audi' 'chevrolet' 'dodge' 'ford' 'honda' 'hyundai' 'jeep' 'land rover'\n",
      " 'lincoln' 'mercury' 'nissan' 'pontiac' 'subaru' 'toyota' 'volkswagen']\n",
      "VALUE COUNTS  dodge         37\n",
      "toyota        34\n",
      "volkswagen    27\n",
      "ford          25\n",
      "chevrolet     19\n",
      "audi          18\n",
      "subaru        14\n",
      "hyundai       14\n",
      "nissan        13\n",
      "honda          9\n",
      "jeep           8\n",
      "pontiac        5\n",
      "mercury        4\n",
      "land rover     4\n",
      "lincoln        3\n",
      "Name: manufacturer, dtype: int64\n",
      "\n",
      "\n",
      "COLUMNA:  model\n",
      "TIPO:  otro\n",
      "NUNIQUE:  38\n",
      "UNIQUE:  ['a4' 'a4 quattro' 'a6 quattro' 'c1500 suburban 2wd' 'corvette'\n",
      " 'k1500 tahoe 4wd' 'malibu' 'caravan 2wd' 'dakota pickup 4wd'\n",
      " 'durango 4wd' 'ram 1500 pickup 4wd' 'expedition 2wd' 'explorer 4wd'\n",
      " 'f150 pickup 4wd' 'mustang' 'civic' 'sonata' 'tiburon'\n",
      " 'grand cherokee 4wd' 'range rover' 'navigator 2wd' 'mountaineer 4wd'\n",
      " 'altima' 'maxima' 'pathfinder 4wd' 'grand prix' 'forester awd'\n",
      " 'impreza awd' '4runner 4wd' 'camry' 'camry solara' 'corolla'\n",
      " 'land cruiser wagon 4wd' 'toyota tacoma 4wd' 'gti' 'jetta' 'new beetle'\n",
      " 'passat']\n",
      "VALUE COUNTS  caravan 2wd               11\n",
      "ram 1500 pickup 4wd       10\n",
      "dakota pickup 4wd          9\n",
      "jetta                      9\n",
      "mustang                    9\n",
      "civic                      9\n",
      "a4 quattro                 8\n",
      "grand cherokee 4wd         8\n",
      "impreza awd                8\n",
      "f150 pickup 4wd            7\n",
      "camry                      7\n",
      "sonata                     7\n",
      "durango 4wd                7\n",
      "toyota tacoma 4wd          7\n",
      "camry solara               7\n",
      "a4                         7\n",
      "tiburon                    7\n",
      "passat                     7\n",
      "4runner 4wd                6\n",
      "explorer 4wd               6\n",
      "forester awd               6\n",
      "altima                     6\n",
      "new beetle                 6\n",
      "malibu                     5\n",
      "gti                        5\n",
      "grand prix                 5\n",
      "c1500 suburban 2wd         5\n",
      "corvette                   5\n",
      "corolla                    5\n",
      "range rover                4\n",
      "k1500 tahoe 4wd            4\n",
      "pathfinder 4wd             4\n",
      "mountaineer 4wd            4\n",
      "expedition 2wd             3\n",
      "a6 quattro                 3\n",
      "navigator 2wd              3\n",
      "maxima                     3\n",
      "land cruiser wagon 4wd     2\n",
      "Name: model, dtype: int64\n",
      "\n",
      "\n",
      "COLUMNA:  displ\n",
      "TIPO:  flotante\n",
      "NUNIQUE:  7\n",
      "UNIQUE:  [1 2 3 4 5 6 7]\n",
      "VALUE COUNTS  2    78\n",
      "4    48\n",
      "3    48\n",
      "5    32\n",
      "1    22\n",
      "6     5\n",
      "7     1\n",
      "Name: displ, dtype: int64\n",
      "\n",
      "\n",
      "COLUMNA:  year\n",
      "TIPO:  entero\n",
      "NUNIQUE:  2\n",
      "UNIQUE:  [1999 2008]\n",
      "VALUE COUNTS  2008    117\n",
      "1999    117\n",
      "Name: year, dtype: int64\n",
      "\n",
      "\n",
      "COLUMNA:  cyl\n",
      "TIPO:  entero\n",
      "NUNIQUE:  4\n",
      "UNIQUE:  [4 6 8 5]\n",
      "VALUE COUNTS  4    81\n",
      "6    79\n",
      "8    70\n",
      "5     4\n",
      "Name: cyl, dtype: int64\n",
      "\n",
      "\n",
      "COLUMNA:  trans\n",
      "TIPO:  otro\n",
      "NUNIQUE:  10\n",
      "UNIQUE:  ['auto(l5)' 'manual(m5)' 'manual(m6)' 'auto(av)' 'auto(s6)' 'auto(l4)'\n",
      " 'auto(l3)' 'auto(l6)' 'auto(s5)' 'auto(s4)']\n",
      "VALUE COUNTS  auto(l4)      83\n",
      "manual(m5)    58\n",
      "auto(l5)      39\n",
      "manual(m6)    19\n",
      "auto(s6)      16\n",
      "auto(l6)       6\n",
      "auto(av)       5\n",
      "auto(s5)       3\n",
      "auto(s4)       3\n",
      "auto(l3)       2\n",
      "Name: trans, dtype: int64\n",
      "\n",
      "\n",
      "COLUMNA:  drv\n",
      "TIPO:  otro\n",
      "NUNIQUE:  3\n",
      "UNIQUE:  ['f' '4' 'r']\n",
      "VALUE COUNTS  f    106\n",
      "4    103\n",
      "r     25\n",
      "Name: drv, dtype: int64\n",
      "\n",
      "\n",
      "COLUMNA:  cty\n",
      "TIPO:  entero\n",
      "NUNIQUE:  21\n",
      "UNIQUE:  [18 21 20 16 19 15 17 14 11 13 12 22  9 28 24 25 23 26 33 35 29]\n",
      "VALUE COUNTS  18    26\n",
      "15    24\n",
      "21    23\n",
      "13    21\n",
      "19    20\n",
      "11    20\n",
      "14    19\n",
      "16    19\n",
      "17    16\n",
      "20    11\n",
      "12     8\n",
      "9      5\n",
      "24     5\n",
      "22     4\n",
      "23     3\n",
      "26     3\n",
      "25     2\n",
      "28     2\n",
      "33     1\n",
      "29     1\n",
      "35     1\n",
      "Name: cty, dtype: int64\n",
      "\n",
      "\n",
      "COLUMNA:  hwy\n",
      "TIPO:  entero\n",
      "NUNIQUE:  27\n",
      "UNIQUE:  [29 31 30 26 27 25 28 24 23 20 15 17 19 14 22 21 18 12 16 33 32 34 36 35\n",
      " 37 44 41]\n",
      "VALUE COUNTS  26    32\n",
      "17    31\n",
      "29    22\n",
      "25    15\n",
      "27    14\n",
      "24    13\n",
      "19    13\n",
      "20    11\n",
      "15    10\n",
      "18    10\n",
      "16     7\n",
      "31     7\n",
      "22     7\n",
      "28     7\n",
      "23     7\n",
      "12     5\n",
      "30     4\n",
      "32     4\n",
      "21     2\n",
      "33     2\n",
      "35     2\n",
      "36     2\n",
      "14     2\n",
      "44     2\n",
      "41     1\n",
      "34     1\n",
      "37     1\n",
      "Name: hwy, dtype: int64\n",
      "\n",
      "\n",
      "COLUMNA:  fl\n",
      "TIPO:  otro\n",
      "NUNIQUE:  5\n",
      "UNIQUE:  ['p' 'r' 'e' 'd' 'c']\n",
      "VALUE COUNTS  r    168\n",
      "p     52\n",
      "e      8\n",
      "d      5\n",
      "c      1\n",
      "Name: fl, dtype: int64\n",
      "\n",
      "\n",
      "COLUMNA:  class\n",
      "TIPO:  otro\n",
      "NUNIQUE:  7\n",
      "UNIQUE:  ['compact' 'midsize' 'suv' '2seater' 'minivan' 'pickup' 'subcompact']\n",
      "VALUE COUNTS  suv           62\n",
      "compact       47\n",
      "midsize       41\n",
      "subcompact    35\n",
      "pickup        33\n",
      "minivan       11\n",
      "2seater        5\n",
      "Name: class, dtype: int64\n",
      "\n",
      "\n"
     ]
    }
   ],
   "source": [
    "l = []\n",
    "bandera = np.NAN\n",
    "for column in df_copy.columns:\n",
    "    if df_copy[column].dtype == np.int64:\n",
    "        bandera = 'entero'\n",
    "    elif df_copy[column].dtype == np.float64:\n",
    "        bandera = 'flotante'\n",
    "    else:\n",
    "        bandera = 'otro'\n",
    "        \n",
    "    try:\n",
    "        df_copy[column] =df_copy[column].astype('int64')\n",
    "    except:\n",
    "        l.append(column)\n",
    "        \n",
    "    print('COLUMNA: ', column)\n",
    "    print('TIPO: ', bandera)\n",
    "    print('NUNIQUE: ', df_copy[column].nunique())\n",
    "    print('UNIQUE: ', df_copy[column].unique())\n",
    "    print('VALUE COUNTS ', df_copy[column].value_counts())\n",
    "    print('\\n')"
   ]
  },
  {
   "cell_type": "code",
   "execution_count": 19,
   "metadata": {},
   "outputs": [
    {
     "data": {
      "text/plain": [
       "<matplotlib.axes._subplots.AxesSubplot at 0x203cd4b0488>"
      ]
     },
     "execution_count": 19,
     "metadata": {},
     "output_type": "execute_result"
    },
    {
     "data": {
      "image/png": "[encoded data removed]",
      "text/plain": [
       "<Figure size 1728x720 with 3 Axes>"
      ]
     },
     "metadata": {
      "needs_background": "light"
     },
     "output_type": "display_data"
    }
   ],
   "source": [
    "msno.bar(df_copy)"
   ]
  },
  {
   "cell_type": "code",
   "execution_count": 20,
   "metadata": {},
   "outputs": [
    {
     "data": {
      "text/plain": [
       "False"
      ]
     },
     "execution_count": 20,
     "metadata": {},
     "output_type": "execute_result"
    }
   ],
   "source": [
    "df_copy.isnull().any().any()"
   ]
  },
  {
   "cell_type": "code",
   "execution_count": 21,
   "metadata": {},
   "outputs": [],
   "source": [
    "df_copy.replace(to_replace='&', value=np.nan, inplace=True)"
   ]
  },
  {
   "cell_type": "code",
   "execution_count": 22,
   "metadata": {},
   "outputs": [],
   "source": [
    "df_copy.replace(to_replace=' ', value=np.nan, inplace=True)"
   ]
  },
  {
   "cell_type": "code",
   "execution_count": 23,
   "metadata": {},
   "outputs": [
    {
     "data": {
      "text/plain": [
       "False"
      ]
     },
     "execution_count": 23,
     "metadata": {},
     "output_type": "execute_result"
    }
   ],
   "source": [
    "df_copy.isnull().any().any()"
   ]
  },
  {
   "cell_type": "code",
   "execution_count": 24,
   "metadata": {},
   "outputs": [
    {
     "data": {
      "text/plain": [
       "<matplotlib.axes._subplots.AxesSubplot at 0x203ce163b48>"
      ]
     },
     "execution_count": 24,
     "metadata": {},
     "output_type": "execute_result"
    },
    {
     "data": {
      "image/png": "[encoded data removed]",
      "text/plain": [
       "<Figure size 1728x720 with 3 Axes>"
      ]
     },
     "metadata": {
      "needs_background": "light"
     },
     "output_type": "display_data"
    }
   ],
   "source": [
    "msno.bar(df_copy)"
   ]
  },
  {
   "cell_type": "code",
   "execution_count": 26,
   "metadata": {},
   "outputs": [],
   "source": [
    "file = 'C:/Users/Gerardo/Desktop/diplomado/modulo-IV/proyecto-final/proyecto/mpg_load.csv'"
   ]
  },
  {
   "cell_type": "code",
   "execution_count": 27,
   "metadata": {},
   "outputs": [],
   "source": [
    "df_copy.to_csv(file)"
   ]
  },
  {
   "cell_type": "code",
   "execution_count": 28,
   "metadata": {},
   "outputs": [],
   "source": [
    "df_copy.fillna(value=-1, inplace=True)"
   ]
  },
  {
   "cell_type": "code",
   "execution_count": 29,
   "metadata": {},
   "outputs": [
    {
     "data": {
      "text/plain": [
       "176"
      ]
     },
     "execution_count": 29,
     "metadata": {},
     "output_type": "execute_result"
    }
   ],
   "source": [
    "threshold = round(df_copy.shape[0]*.75)\n",
    "threshold"
   ]
  },
  {
   "cell_type": "code",
   "execution_count": 30,
   "metadata": {},
   "outputs": [
    {
     "name": "stdout",
     "output_type": "stream",
     "text": [
      "manufacturer :  231  -  176\n",
      "model :  232  -  176\n",
      "trans :  232  -  176\n",
      "drv :  209  -  176\n",
      "fl :  233  -  176\n",
      "class :  229  -  176\n"
     ]
    }
   ],
   "source": [
    "l = []\n",
    "for column in df_copy.columns:\n",
    "    na_column =  df_copy[column].value_counts().get(-1)\n",
    "    if(na_column != None):\n",
    "        print(column, ': ', df_copy.shape[0] - na_column, ' - ', threshold)\n",
    "        if (df_copy.shape[0] - na_column < threshold):\n",
    "            print(column, ': ', 'd e l e t e d')\n",
    "            l.append(column)"
   ]
  },
  {
   "cell_type": "code",
   "execution_count": 31,
   "metadata": {},
   "outputs": [
    {
     "data": {
      "text/plain": [
       "[]"
      ]
     },
     "execution_count": 31,
     "metadata": {},
     "output_type": "execute_result"
    }
   ],
   "source": [
    "l"
   ]
  },
  {
   "cell_type": "code",
   "execution_count": 32,
   "metadata": {},
   "outputs": [],
   "source": [
    "df_copy.drop(labels=l, axis=1, inplace=True)"
   ]
  },
  {
   "cell_type": "code",
   "execution_count": 33,
   "metadata": {},
   "outputs": [],
   "source": [
    "df_copy.replace(to_replace=-1, value=np.NaN, inplace=True)"
   ]
  },
  {
   "cell_type": "code",
   "execution_count": 34,
   "metadata": {},
   "outputs": [
    {
     "data": {
      "text/plain": [
       "<matplotlib.axes._subplots.AxesSubplot at 0x203ce1a6f08>"
      ]
     },
     "execution_count": 34,
     "metadata": {},
     "output_type": "execute_result"
    },
    {
     "data": {
      "image/png": "[encoded data removed]",
      "text/plain": [
       "<Figure size 1728x720 with 3 Axes>"
      ]
     },
     "metadata": {
      "needs_background": "light"
     },
     "output_type": "display_data"
    }
   ],
   "source": [
    "msno.bar(df_copy)"
   ]
  },
  {
   "cell_type": "code",
   "execution_count": 35,
   "metadata": {},
   "outputs": [],
   "source": [
    "file = 'C:/Users/Gerardo/Desktop/diplomado/modulo-IV/proyecto-final/proyecto/mpg_clean.csv'"
   ]
  },
  {
   "cell_type": "code",
   "execution_count": 36,
   "metadata": {},
   "outputs": [],
   "source": [
    "file = 'C:/Users/Gerardo/Desktop/diplomado/modulo-IV/proyecto-final/proyecto/mpg_load.csv'"
   ]
  },
  {
   "cell_type": "code",
   "execution_count": 37,
   "metadata": {},
   "outputs": [],
   "source": [
    "df_copy.to_csv(file)"
   ]
  },
  {
   "cell_type": "code",
   "execution_count": 38,
   "metadata": {},
   "outputs": [],
   "source": [
    "df_copy.dropna(inplace=True)"
   ]
  },
  {
   "cell_type": "code",
   "execution_count": null,
   "metadata": {},
   "outputs": [],
   "source": []
  }
 ],
 "metadata": {
  "kernelspec": {
   "display_name": "Python 3",
   "language": "python",
   "name": "python3"
  },
  "language_info": {
   "codemirror_mode": {
    "name": "ipython",
    "version": 3
   },
   "file_extension": ".py",
   "mimetype": "text/x-python",
   "name": "python",
   "nbconvert_exporter": "python",
   "pygments_lexer": "ipython3",
   "version": "3.7.4"
  }
 },
 "nbformat": 4,
 "nbformat_minor": 4
}
